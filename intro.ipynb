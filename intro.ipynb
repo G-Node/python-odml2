{
 "metadata": {
  "name": ""
 },
 "nbformat": 3,
 "nbformat_minor": 0,
 "worksheets": [
  {
   "cells": [
    {
     "cell_type": "markdown",
     "metadata": {},
     "source": [
      "odML2 prototype introduction\n",
      "============================\n",
      "\n",
      "This notebook shows how python-odml2 can be used. \n",
      "The usage is of course limited due to many unimplemented features.\n",
      "Therefore this notebook aims to show what is possible based on the current implementation."
     ]
    },
    {
     "cell_type": "markdown",
     "metadata": {},
     "source": [
      "Create an empty document\n",
      "------------------------\n",
      "\n",
      "Since deserialization is currently not implemented it is not possible to load a document from a yaml file.\n",
      "But is is possible to create an empty document in memory.\n",
      "\n",
      "_Btw: the code for creating a document will be more straightforward in upcoming versions_"
     ]
    },
    {
     "cell_type": "code",
     "collapsed": false,
     "input": [
      "import datetime as dt\n",
      "from odml2.back_end import yaml\n",
      "from odml2 import Document, Section, SB, Value, value_from\n",
      "\n",
      "doc = Document(\"./dummy_file_name.yaml\", yaml.YamlBackEnd())\n",
      "\n",
      "# basic document properties\n",
      "doc.author = \"John Doe\"\n",
      "doc.date = dt.date.today()\n",
      "\n",
      "print(doc)\n",
      "\n",
      "# each document has one section as root (which is empty in this case)\n",
      "\n",
      "print(doc.root is None)"
     ],
     "language": "python",
     "metadata": {},
     "outputs": [
      {
       "output_type": "stream",
       "stream": "stdout",
       "text": [
        "Document(location='./dummy_file_name.yaml', author='John Doe', date=2015-10-07)\n",
        "True\n"
       ]
      }
     ],
     "prompt_number": 1
    },
    {
     "cell_type": "markdown",
     "metadata": {},
     "source": [
      "Working with values\n",
      "-------------------"
     ]
    },
    {
     "cell_type": "code",
     "collapsed": false,
     "input": [
      "# Values have three attributes: value, unit and uncertainty\n",
      "val = Value(5, \"mV\", 0.001)\n",
      "print(val)\n",
      "print(\"val.value: %s, val.unit: %s, val.uncertainty: %s\" % (val.value, val.unit, val.uncertainty))\n",
      "\n",
      "# values can be checked for equality\n",
      "print(\"Value(10, 'mV') == Value(10, 'mV'): %s\" % (Value(10, 'mV') == Value(10, 'mV')))\n",
      "print(\"Value(10, 'mV') == Value(10, 'mV', 0.001): %s\" % (Value(10, 'mV') == Value(10, 'mV', 0.001)))\n",
      "\n",
      "# Values are immutable. Their attributes can't be set, instead they have a copy mehtod\n",
      "# that allows to create an altered copy of the value\n",
      "val = val.copy(unit=\"MV\")\n",
      "print(val)\n",
      "\n",
      "# Values can be created from formatted strings. Such strings can be used in many places where\n",
      "# value objects are expected as an argument\n",
      "val = value_from(\"10.33e10nA+-0.001\")\n",
      "print(\"val.value: %s, val.unit: %s, val.uncertainty: %s\" % (val.value, val.unit, val.uncertainty))"
     ],
     "language": "python",
     "metadata": {},
     "outputs": [
      {
       "output_type": "stream",
       "stream": "stdout",
       "text": [
        "5mV+-0.001\n",
        "val.value: 5, val.unit: mV, val.uncertainty: 0.001\n",
        "Value(10, 'mV') == Value(10, 'mV'): True\n",
        "Value(10, 'mV') == Value(10, 'mV', 0.001): False\n",
        "5MV+-0.001\n",
        "val.value: 1.033e+11, val.unit: nA, val.uncertainty: 0.001\n"
       ]
      }
     ],
     "prompt_number": 2
    },
    {
     "cell_type": "markdown",
     "metadata": {},
     "source": [
      "Adding sections to a document\n",
      "-----------------------------\n",
      "\n",
      "Since `Section` instances are always attached to a document and a back-end it is not possible to create sections directly and add them to a document.\n",
      "Instead this is done using a section builder `SB`.\n",
      "In the old `python-odml` library creating sections programmatically required quite some amount of code.\n",
      "Therefore `SB` was designed to make this more concise and hopefully more elegant.\n",
      "\n",
      "The following code adds a recording session and an experimenter to the document along with all their properties and values."
     ]
    },
    {
     "cell_type": "code",
     "collapsed": false,
     "input": [
      "doc.root = SB(\n",
      "    typ=\"RecordingSession\",\n",
      "    label=\"session one\",\n",
      "    # a property 'date' whith todays date\n",
      "    date=dt.date.today(),\n",
      "    # a property 'experimenter' that points to a section representing a person\n",
      "    experimenter=SB(\n",
      "        typ=\"Person\",\n",
      "        # the experimenter has three properties: 'first_name', 'last_name' and 'birthday'\n",
      "        first_name=\"John\",\n",
      "        last_name=\"Doe\",\n",
      "        birthday=dt.date(1970, 11, 11)\n",
      "    )\n",
      ")\n",
      "print(doc.root)\n",
      "print(doc.root[\"experimenter\"])"
     ],
     "language": "python",
     "metadata": {},
     "outputs": [
      {
       "output_type": "stream",
       "stream": "stdout",
       "text": [
        "Section(type=RecordingSession, uuid=f65fd466-2d8a-4c0d-8fd3-642937b81812, label=session one)\n",
        "Section(type=Person, uuid=365adeb4-24da-4eca-bb29-a62dbbf3ba39, label=None)\n"
       ]
      }
     ],
     "prompt_number": 3
    },
    {
     "cell_type": "markdown",
     "metadata": {},
     "source": [
      "Add properties with values or subsections to a section\n",
      "------------------------------------------------------\n",
      "\n",
      "Creation of subsections works similar to the creation of the root section above. The following code shows how two stimuli can be attached to the recording session:"
     ]
    },
    {
     "cell_type": "code",
     "collapsed": false,
     "input": [
      "session = doc.root\n",
      "session[\"stimuli\"] = [\n",
      "    SB(\n",
      "        typ=\"PulseStimulus\",\n",
      "        label=\"first pulse\",\n",
      "        offset=\"10ms\",\n",
      "        duration=Value(5, \"ms\"),\n",
      "        current=\"0.6nA+-0.001\"\n",
      "    ),\n",
      "    SB(\n",
      "        typ=\"PulseStimulus\",\n",
      "        label=\"second pulse\",\n",
      "        offset=\"30ms\",\n",
      "        duration=\"5ms\",\n",
      "        current=Value(0.8, \"nA\", 0.001)\n",
      "    )\n",
      "]"
     ],
     "language": "python",
     "metadata": {},
     "outputs": [],
     "prompt_number": 4
    },
    {
     "cell_type": "markdown",
     "metadata": {},
     "source": [
      "Add a new property with a value:"
     ]
    },
    {
     "cell_type": "code",
     "collapsed": false,
     "input": [
      "session[\"quality_level\"] = \"good\""
     ],
     "language": "python",
     "metadata": {},
     "outputs": [],
     "prompt_number": 5
    },
    {
     "cell_type": "markdown",
     "metadata": {},
     "source": [
      "Accessing properties from sections\n",
      "----------------------------------\n",
      "\n",
      "There are three basic ways to access properties from a section: iteration over items, calling getitem via `[]` and the `get` method:\n",
      "\n",
      "Lets look at the get method first:"
     ]
    },
    {
     "cell_type": "code",
     "collapsed": false,
     "input": [
      "# if the property points to a value get() returns always a value object\n",
      "val = session.get(\"date\")\n",
      "print(type(val))\n",
      "\n",
      "# if the property points to a section get() returns always a list of sections\n",
      "exp = session.get(\"experimenter\")\n",
      "print(exp)\n",
      "\n",
      "# if the property does not exist it returns None\n",
      "session.get(\"does_not_exist\")"
     ],
     "language": "python",
     "metadata": {},
     "outputs": [
      {
       "output_type": "stream",
       "stream": "stdout",
       "text": [
        "<class 'odml2.model.Value'>\n",
        "[Section(type=Person, uuid=365adeb4-24da-4eca-bb29-a62dbbf3ba39, label=None)]\n"
       ]
      }
     ],
     "prompt_number": 6
    },
    {
     "cell_type": "markdown",
     "metadata": {},
     "source": [
      "The getitem method accessed via the `[]` operator tries to be a bit more convenient: it does not return value object but instead returns the values value. And if a property only points to one single section it returns the section instead of a list."
     ]
    },
    {
     "cell_type": "code",
     "collapsed": false,
     "input": [
      "val = session[\"date\"]\n",
      "print(type(val))\n",
      "\n",
      "exp = session[\"experimenter\"]\n",
      "print(exp)"
     ],
     "language": "python",
     "metadata": {},
     "outputs": [
      {
       "output_type": "stream",
       "stream": "stdout",
       "text": [
        "<type 'datetime.date'>\n",
        "Section(type=Person, uuid=365adeb4-24da-4eca-bb29-a62dbbf3ba39, label=None)\n"
       ]
      }
     ],
     "prompt_number": 7
    },
    {
     "cell_type": "markdown",
     "metadata": {},
     "source": [
      "And finally it is also possible to iterate over properties or items:"
     ]
    },
    {
     "cell_type": "code",
     "collapsed": false,
     "input": [
      "for p in session:\n",
      "    print(\"%s -> %s\" % (p, session.get(p)))\n",
      "    \n",
      "print(\"\\n\")\n",
      "# is equivalent to\n",
      "\n",
      "for p, elem in session.items():\n",
      "    print(\"%s -> %s\" % (p, elem))"
     ],
     "language": "python",
     "metadata": {},
     "outputs": [
      {
       "output_type": "stream",
       "stream": "stdout",
       "text": [
        "date -> 2015-10-07\n",
        "experimenter -> [Section(type=Person, uuid=365adeb4-24da-4eca-bb29-a62dbbf3ba39, label=None)]\n",
        "quality_level -> good\n",
        "stimuli -> [Section(type=PulseStimulus, uuid=37332652-69d1-42c2-9eaa-42b391ac9b68, label=first pulse), Section(type=PulseStimulus, uuid=dd057a75-182b-4cee-a203-3d7827ef50f4, label=second pulse)]\n",
        "\n",
        "\n",
        "date -> 2015-10-07\n",
        "experimenter -> [Section(type=Person, uuid=365adeb4-24da-4eca-bb29-a62dbbf3ba39, label=None)]\n",
        "quality_level -> good\n",
        "stimuli -> [Section(type=PulseStimulus, uuid=37332652-69d1-42c2-9eaa-42b391ac9b68, label=first pulse), Section(type=PulseStimulus, uuid=dd057a75-182b-4cee-a203-3d7827ef50f4, label=second pulse)]\n"
       ]
      }
     ],
     "prompt_number": 8
    }
   ],
   "metadata": {}
  }
 ]
}