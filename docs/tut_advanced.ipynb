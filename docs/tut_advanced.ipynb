{
 "metadata": {
  "name": ""
 },
 "nbformat": 3,
 "nbformat_minor": 0,
 "worksheets": [
  {
   "cells": [
    {
     "cell_type": "markdown",
     "metadata": {},
     "source": [
      "# odML2 prototype: advanced tutorial"
     ]
    },
    {
     "cell_type": "markdown",
     "metadata": {},
     "source": [
      "### Create a document with global information"
     ]
    },
    {
     "cell_type": "code",
     "collapsed": false,
     "input": [
      "import datetime as dt\n",
      "from odml2 import Document, SB, Value\n",
      "\n",
      "glob = Document()"
     ],
     "language": "python",
     "metadata": {},
     "outputs": [],
     "prompt_number": 1
    },
    {
     "cell_type": "code",
     "collapsed": false,
     "input": [
      "glob.root = SB(\n",
      "    \"ResearchLab\", \n",
      "    name=\"Dr. Doe Lab\",\n",
      "    researchers=[\n",
      "        SB(\"Person\", label=\"Doe, Jhon\", first_name=\"Jhon\", last_name=\"Doe\"),\n",
      "        SB(\"Person\", label=\"Foo, Bar\", first_name=\"Bar\", last_name=\"Foo\")\n",
      "    ],\n",
      "    animals=[\n",
      "        SB(\"Animal\", label=\"subj 11\", subject_id=11, date_of_birth=dt.date(2015, 11, 24), species=\"Mus musculus\"),\n",
      "        SB(\"Animal\", label=\"subj 12\", subject_id=12, date_of_birth=dt.date(2015, 11, 25), species=\"Mus musculus\")\n",
      "    ]\n",
      ")\n"
     ],
     "language": "python",
     "metadata": {},
     "outputs": [],
     "prompt_number": 2
    },
    {
     "cell_type": "code",
     "collapsed": false,
     "input": [
      "glob.save(\"global.yml\")"
     ],
     "language": "python",
     "metadata": {},
     "outputs": [],
     "prompt_number": 3
    },
    {
     "cell_type": "markdown",
     "metadata": {},
     "source": [
      "### Select data from documents"
     ]
    },
    {
     "cell_type": "code",
     "collapsed": false,
     "input": [
      "# select a person with last name 'Doe' from all sections\n",
      "experimenter = (s for s in glob.iter_sections() if s.type == \"Person\" and s[\"last_name\"] == \"Doe\").next()\n",
      "\n",
      "# select the animal with id 11 from all animals\n",
      "animal = (a for a in glob.root[\"animals\"] if a[\"subject_id\"] == 11).next()"
     ],
     "language": "python",
     "metadata": {},
     "outputs": [],
     "prompt_number": 4
    },
    {
     "cell_type": "markdown",
     "metadata": {},
     "source": [
      "### Crate a document with session information"
     ]
    },
    {
     "cell_type": "code",
     "collapsed": false,
     "input": [
      "session = Document()\n",
      "session.root = SB(\"RecordingSession\", label=\"session 42\", session_nr=42, recording_date=dt.date.today())\n",
      "\n",
      "session.save(\"session.yml\")"
     ],
     "language": "python",
     "metadata": {},
     "outputs": [],
     "prompt_number": 5
    },
    {
     "cell_type": "markdown",
     "metadata": {},
     "source": [
      "### Copy data from other documents"
     ]
    },
    {
     "cell_type": "code",
     "collapsed": false,
     "input": [
      "session = Document()\n",
      "session.load(\"session.yml\")\n",
      "\n",
      "# copy global data to session document\n",
      "session.root[\"experimenter\"] = experimenter\n",
      "session.root[\"subject\"] = animal\n",
      "\n",
      "session.root[\"subject\"][\"health\"] = \"good\"\n",
      "if \"health\" not in animal:\n",
      "    print(\"It's a copy\")"
     ],
     "language": "python",
     "metadata": {},
     "outputs": [
      {
       "output_type": "stream",
       "stream": "stdout",
       "text": [
        "It's a copy\n"
       ]
      }
     ],
     "prompt_number": 6
    },
    {
     "cell_type": "markdown",
     "metadata": {},
     "source": [
      "### Link data from other documents"
     ]
    },
    {
     "cell_type": "code",
     "collapsed": false,
     "input": [
      "session = Document()\n",
      "session.load(\"session.yml\")\n",
      "\n",
      "session.namespaces.set(\"glob\", \"global.yml\")\n",
      "\n",
      "# copy global data to session document\n",
      "session.root[\"experimenter\"] = experimenter\n",
      "session.root[\"subject\"] = animal\n",
      "\n",
      "try:\n",
      "    session.root[\"subject\"][\"health\"] = \"good\"\n",
      "except:\n",
      "    print(\"It's a link, can't change a section from another document\")"
     ],
     "language": "python",
     "metadata": {},
     "outputs": [
      {
       "output_type": "stream",
       "stream": "stdout",
       "text": [
        "It's a link, can't change a section from another document\n"
       ]
      }
     ],
     "prompt_number": 7
    }
   ],
   "metadata": {}
  }
 ]
}