{
 "metadata": {
  "name": ""
 },
 "nbformat": 3,
 "nbformat_minor": 0,
 "worksheets": [
  {
   "cells": [
    {
     "cell_type": "markdown",
     "metadata": {},
     "source": [
      "# odML2 prototype: introduction"
     ]
    },
    {
     "cell_type": "markdown",
     "metadata": {},
     "source": [
      "### Create an empty document"
     ]
    },
    {
     "cell_type": "code",
     "collapsed": false,
     "input": [
      "import datetime as dt\n",
      "from odml2 import Document, SB, Value\n",
      "\n",
      "doc = Document()\n",
      "\n",
      "print(doc)"
     ],
     "language": "python",
     "metadata": {},
     "outputs": [
      {
       "output_type": "stream",
       "stream": "stdout",
       "text": [
        "Document(location='None', author='None', date=None)\n"
       ]
      }
     ],
     "prompt_number": 2
    },
    {
     "cell_type": "markdown",
     "metadata": {},
     "source": [
      "### Basic document properties"
     ]
    },
    {
     "cell_type": "code",
     "collapsed": false,
     "input": [
      "# automatically filled properties\n",
      "\n",
      "print(\"doc.is_writable: %s\" % doc.is_writable)\n",
      "print(\"doc.is_attached: %s\" % doc.is_attached)\n",
      "print(\"doc.location: %s\" % doc.location)\n",
      "\n",
      "# user defined properties\n",
      "\n",
      "doc.author = \"John Doe\"\n",
      "doc.version = 3\n",
      "doc.date = dt.datetime.now()\n",
      "\n",
      "print(\"doc.author: %s\" % doc.author)\n",
      "print(\"doc.version: %s\" % doc.version)\n",
      "print(\"doc.date: %s\" % doc.date)"
     ],
     "language": "python",
     "metadata": {},
     "outputs": [
      {
       "output_type": "stream",
       "stream": "stdout",
       "text": [
        "doc.is_writable: True\n",
        "doc.is_attached: False\n",
        "doc.location: None\n",
        "doc.author: John Doe\n",
        "doc.version: 3\n",
        "doc.date: 2016-02-18 11:53:04.163586\n"
       ]
      }
     ],
     "prompt_number": 3
    },
    {
     "cell_type": "markdown",
     "metadata": {},
     "source": [
      "### odML value objects"
     ]
    },
    {
     "cell_type": "code",
     "collapsed": false,
     "input": [
      "v = Value(10)\n",
      "print(v)\n",
      "print(repr(v))\n",
      "\n",
      "v = Value(200, unit=\"\u00b5m\", uncertainty=0.002)\n",
      "print(repr(v))\n",
      "\n",
      "v = Value.from_obj(\"42 +-0.002 mV\")\n",
      "print(repr(v))"
     ],
     "language": "python",
     "metadata": {},
     "outputs": [
      {
       "output_type": "stream",
       "stream": "stdout",
       "text": [
        "10\n",
        "Value(value=10, unit=None, uncertainty=None)\n",
        "Value(value=200, unit=\u00b5m, uncertainty=0.002)\n",
        "Value(value=42, unit=mV, uncertainty=0.002)\n"
       ]
      }
     ],
     "prompt_number": 4
    },
    {
     "cell_type": "code",
     "collapsed": false,
     "input": [
      "v.copy(unit=\"V\")"
     ],
     "language": "python",
     "metadata": {},
     "outputs": [
      {
       "metadata": {},
       "output_type": "pyout",
       "prompt_number": 5,
       "text": [
        "Value(value=42, unit=V, uncertainty=0.002)"
       ]
      }
     ],
     "prompt_number": 5
    },
    {
     "cell_type": "markdown",
     "metadata": {},
     "source": [
      "### Add a section as document root"
     ]
    },
    {
     "cell_type": "code",
     "collapsed": false,
     "input": [
      "doc.root = SB(\"RecordingSession\", label=\"session 2\")\n",
      "\n",
      "doc.root"
     ],
     "language": "python",
     "metadata": {},
     "outputs": [
      {
       "metadata": {},
       "output_type": "pyout",
       "prompt_number": 6,
       "text": [
        "Section(type=RecordingSession, uuid=1f5716c7-402c-47ef-913e-7914667e7fda, label=session 2)"
       ]
      }
     ],
     "prompt_number": 6
    },
    {
     "cell_type": "markdown",
     "metadata": {},
     "source": [
      "### Add add properties to a section"
     ]
    },
    {
     "cell_type": "code",
     "collapsed": false,
     "input": [
      "sec = doc.root\n",
      "\n",
      "sec[\"recording_date\"] = dt.date.today()\n",
      "sec[\"time_delay\"] = Value(10, unit=\"ms\", uncertainty=0.001)\n",
      "sec[\"experimenter\"] = SB(\"Person\", first_name=\"John\", last_name=\"Doe\")"
     ],
     "language": "python",
     "metadata": {},
     "outputs": [],
     "prompt_number": 7
    },
    {
     "cell_type": "markdown",
     "metadata": {},
     "source": [
      "### Access section properties"
     ]
    },
    {
     "cell_type": "code",
     "collapsed": false,
     "input": [
      "sec[\"recording_date\"]"
     ],
     "language": "python",
     "metadata": {},
     "outputs": [
      {
       "metadata": {},
       "output_type": "pyout",
       "prompt_number": 8,
       "text": [
        "datetime.date(2016, 2, 18)"
       ]
      }
     ],
     "prompt_number": 8
    },
    {
     "cell_type": "code",
     "collapsed": false,
     "input": [
      "sec.get(\"recording_date\")"
     ],
     "language": "python",
     "metadata": {},
     "outputs": [
      {
       "metadata": {},
       "output_type": "pyout",
       "prompt_number": 9,
       "text": [
        "Value(value=2016-02-18, unit=None, uncertainty=None)"
       ]
      }
     ],
     "prompt_number": 9
    },
    {
     "cell_type": "code",
     "collapsed": false,
     "input": [
      "sec[\"experimenter\"]"
     ],
     "language": "python",
     "metadata": {},
     "outputs": [
      {
       "metadata": {},
       "output_type": "pyout",
       "prompt_number": 10,
       "text": [
        "Section(type=Person, uuid=06bcf6e2-98be-4cd0-8896-e3f579331ced, label=None)"
       ]
      }
     ],
     "prompt_number": 10
    },
    {
     "cell_type": "code",
     "collapsed": false,
     "input": [
      "exp = sec[\"experimenter\"]\n",
      "print(exp[\"first_name\"])\n",
      "print(exp[\"last_name\"])"
     ],
     "language": "python",
     "metadata": {},
     "outputs": [
      {
       "output_type": "stream",
       "stream": "stdout",
       "text": [
        "John\n",
        "Doe\n"
       ]
      }
     ],
     "prompt_number": 11
    },
    {
     "cell_type": "code",
     "collapsed": false,
     "input": [
      "sec.get(\"experimenter\")"
     ],
     "language": "python",
     "metadata": {},
     "outputs": [
      {
       "metadata": {},
       "output_type": "pyout",
       "prompt_number": 12,
       "text": [
        "[Section(type=Person, uuid=06bcf6e2-98be-4cd0-8896-e3f579331ced, label=None)]"
       ]
      }
     ],
     "prompt_number": 12
    },
    {
     "cell_type": "markdown",
     "metadata": {},
     "source": [
      "### Save the document"
     ]
    },
    {
     "cell_type": "code",
     "collapsed": false,
     "input": [
      "doc.save(\"intro.yml\")\n",
      "\n",
      "with open(\"intro.yml\") as f:\n",
      "    print(f.read())"
     ],
     "language": "python",
     "metadata": {},
     "outputs": [
      {
       "output_type": "stream",
       "stream": "stdout",
       "text": [
        "date: 2016-02-18 11:53:04.163586\n",
        "document_version: 3\n",
        "format_version: 2\n",
        "author: John Doe\n",
        "namespaces: null\n",
        "definitions: null\n",
        "metadata:\n",
        "  type: RecordingSession\n",
        "  uuid: 1f5716c7-402c-47ef-913e-7914667e7fda\n",
        "  label: session 2\n",
        "  recording_date: 2016-02-18\n",
        "  time_delay: 10+-0.001ms\n",
        "  experimenter:\n",
        "    type: Person\n",
        "    uuid: 06bcf6e2-98be-4cd0-8896-e3f579331ced\n",
        "    first_name: John\n",
        "    last_name: Doe\n",
        "\n"
       ]
      }
     ],
     "prompt_number": 13
    },
    {
     "cell_type": "markdown",
     "metadata": {},
     "source": [
      "### Load document"
     ]
    },
    {
     "cell_type": "code",
     "collapsed": false,
     "input": [
      "new_doc = Document()\n",
      "new_doc.load(\"intro.yml\")"
     ],
     "language": "python",
     "metadata": {},
     "outputs": [],
     "prompt_number": 14
    }
   ],
   "metadata": {}
  }
 ]
}