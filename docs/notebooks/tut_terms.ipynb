{
 "metadata": {
  "name": ""
 },
 "nbformat": 3,
 "nbformat_minor": 0,
 "worksheets": [
  {
   "cells": [
    {
     "cell_type": "markdown",
     "metadata": {},
     "source": [
      "# odML2 prototype: terminology tutorial"
     ]
    },
    {
     "cell_type": "markdown",
     "metadata": {},
     "source": [
      "### Create a document with terms"
     ]
    },
    {
     "cell_type": "code",
     "collapsed": false,
     "input": [
      "import datetime as dt\n",
      "from odml2 import Document, TerminologyStrategy, SB, Value\n",
      "\n",
      "terms = Document()\n",
      "\n",
      "# some section types with their properties\n",
      "terms.type_definitions.set(\"RecordingSession\", \"An experimental procedure\", \n",
      "                           properties=[\"subject\", \"recording_date\", \"session_nr\"])\n",
      "terms.type_definitions.set(\"Animal\", \"A non human, animal individual\", \n",
      "                           properties=[\"subject_id\", \"date_of_birth\", \"species\"])\n",
      "\n",
      "print(terms.type_definitions)"
     ],
     "language": "python",
     "metadata": {},
     "outputs": [
      {
       "output_type": "stream",
       "stream": "stdout",
       "text": [
        "TypeDefMap(size=2)\n"
       ]
      }
     ],
     "prompt_number": 15
    },
    {
     "cell_type": "code",
     "collapsed": false,
     "input": [
      "# define properties with their types\n",
      "terms.property_definitions.set(\"subject\", types=[\"Animal\"])\n",
      "terms.property_definitions.set(\"session_nr\", types=[\"int\", \"float\"])\n",
      "terms.property_definitions.set(\"recording_date\", types=[\"date\", \"datetime\"])\n",
      "terms.property_definitions.set(\"subject_id\", types=[\"int\", \"float\"])\n",
      "terms.property_definitions.set(\"species\", types=[\"string\"])\n",
      "terms.property_definitions.set(\"date_of_birth\", types=[\"date\", \"datetime\"])\n",
      "\n",
      "print(terms.property_definitions)"
     ],
     "language": "python",
     "metadata": {},
     "outputs": [
      {
       "output_type": "stream",
       "stream": "stdout",
       "text": [
        "PropertyDefMap(size=6)\n"
       ]
      }
     ],
     "prompt_number": 16
    },
    {
     "cell_type": "code",
     "collapsed": false,
     "input": [
      "terms.save(\"terms.yml\")\n",
      "\n",
      "with open(\"terms.yml\") as f:\n",
      "    print(f.read())"
     ],
     "language": "python",
     "metadata": {},
     "outputs": [
      {
       "output_type": "stream",
       "stream": "stdout",
       "text": [
        "date: null\n",
        "document_version: 1\n",
        "format_version: 2\n",
        "author: null\n",
        "namespaces: null\n",
        "definitions:\n",
        "  date_of_birth:\n",
        "    types:\n",
        "    - date\n",
        "    - datetime\n",
        "  recording_date:\n",
        "    types:\n",
        "    - date\n",
        "    - datetime\n",
        "  session_nr:\n",
        "    types:\n",
        "    - int\n",
        "    - float\n",
        "  species:\n",
        "    types:\n",
        "    - string\n",
        "  subject:\n",
        "    types:\n",
        "    - Animal\n",
        "  subject_id:\n",
        "    types:\n",
        "    - int\n",
        "    - float\n",
        "  Animal:\n",
        "    properties:\n",
        "    - subject_id\n",
        "    - date_of_birth\n",
        "    - species\n",
        "    definition: A non human, animal individual\n",
        "  RecordingSession:\n",
        "    properties:\n",
        "    - session_nr\n",
        "    - recording_date\n",
        "    - subject\n",
        "    definition: An experimental procedure\n",
        "metadata: null\n",
        "\n"
       ]
      }
     ],
     "prompt_number": 17
    },
    {
     "cell_type": "markdown",
     "metadata": {},
     "source": [
      "### Alter existing terms"
     ]
    },
    {
     "cell_type": "code",
     "collapsed": false,
     "input": [
      "recd = terms.property_definitions[\"recording_date\"]\n",
      "terms.property_definitions[\"recording_date\"] = recd.copy(definition=\"Date of a recording\")\n",
      "\n",
      "terms.save(\"terms.yml\")"
     ],
     "language": "python",
     "metadata": {},
     "outputs": [],
     "prompt_number": 18
    },
    {
     "cell_type": "markdown",
     "metadata": {},
     "source": [
      "### Use terms from another document"
     ]
    },
    {
     "cell_type": "code",
     "collapsed": false,
     "input": [
      "session = Document(strategy=TerminologyStrategy.Ignore) # this is actually the default\n",
      "session.namespaces.set(\"terms\", \"terms.yml\")\n",
      "\n",
      "session.root = SB(\n",
      "    \"terms:RecordingSession\",\n",
      "    **{\n",
      "        \"terms:session_nr\": 42,\n",
      "        \"terms:recording_date\": dt.date.today(),\n",
      "        \"terms:subject\": SB(\n",
      "            \"terms:Animal\",\n",
      "            **{\n",
      "                \"terms:subject_id\": 12,\n",
      "                \"terms:date_of_birth\": dt.date(2015, 11, 25),\n",
      "                \"terms:species\": \"Mus musculus\"\n",
      "            }\n",
      "        )\n",
      "    }\n",
      ")\n",
      "\n",
      "# It's ok to add things not defined in a terminology\n",
      "session.root[\"quality_level\"] = \"medium\""
     ],
     "language": "python",
     "metadata": {},
     "outputs": [],
     "prompt_number": 19
    },
    {
     "cell_type": "markdown",
     "metadata": {},
     "source": [
      "### Make sure a document sticks to known terms"
     ]
    },
    {
     "cell_type": "code",
     "collapsed": false,
     "input": [
      "session = Document(strategy=TerminologyStrategy.Strict)\n",
      "\n",
      "try:\n",
      "    session.root = SB(\n",
      "        \"terms:RecordingSession\",\n",
      "        **{\n",
      "            \"terms:session_nr\": 42,\n",
      "            \"terms:recording_date\": dt.date.today(),\n",
      "            \"terms:subject\": SB(\n",
      "                \"terms:Animal\",\n",
      "                **{\n",
      "                    \"terms:subject_id\": 12,\n",
      "                    \"terms:date_of_birth\": dt.date(2015, 11, 25),\n",
      "                    \"terms:species\": \"Mus musculus\"\n",
      "                }\n",
      "            )\n",
      "        }\n",
      "    )\n",
      "except Exception as e:\n",
      "    print(e.message)\n",
      "    print(\"Does not work because no terms are defined\")"
     ],
     "language": "python",
     "metadata": {},
     "outputs": [
      {
       "output_type": "stream",
       "stream": "stdout",
       "text": [
        "The namespace 'terms:RecordingSession' is not known in this document\n",
        "Does not work because no terms are defined\n"
       ]
      }
     ],
     "prompt_number": 20
    },
    {
     "cell_type": "code",
     "collapsed": false,
     "input": [
      "session.namespaces.set(\"terms\", \"terms.yml\")\n",
      "\n",
      "session.root = SB(\n",
      "    \"terms:RecordingSession\",\n",
      "    **{\n",
      "        \"terms:session_nr\": 42,\n",
      "        \"terms:recording_date\": dt.date.today(),\n",
      "        \"terms:subject\": SB(\n",
      "            \"terms:Animal\",\n",
      "            **{\n",
      "                \"terms:subject_id\": 12,\n",
      "                \"terms:date_of_birth\": dt.date(2015, 11, 25),\n",
      "                \"terms:species\": \"Mus musculus\"\n",
      "            }\n",
      "        )\n",
      "    }\n",
      ")\n",
      "\n",
      "session.root"
     ],
     "language": "python",
     "metadata": {},
     "outputs": [
      {
       "metadata": {},
       "output_type": "pyout",
       "prompt_number": 21,
       "text": [
        "Section(type=terms:RecordingSession, uuid=ddb877b6-de61-4dc2-82d5-c23ce7c2ef5b, label=None)"
       ]
      }
     ],
     "prompt_number": 21
    },
    {
     "cell_type": "code",
     "collapsed": false,
     "input": [
      "try:\n",
      "    session.root[\"quality_level\"] = \"medium\"\n",
      "except Exception as e:\n",
      "    print(e.message)\n",
      "    print(\"Does not work because no property is defined\")"
     ],
     "language": "python",
     "metadata": {},
     "outputs": [
      {
       "output_type": "stream",
       "stream": "stdout",
       "text": [
        "The property 'quality_level' is not defined for type 'terms:RecordingSession'\n",
        "Does not work because no property is defined\n"
       ]
      }
     ],
     "prompt_number": 22
    }
   ],
   "metadata": {}
  }
 ]
}