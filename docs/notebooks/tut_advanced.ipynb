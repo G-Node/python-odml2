{
 "metadata": {
  "name": ""
 },
 "nbformat": 3,
 "nbformat_minor": 0,
 "worksheets": [
  {
   "cells": [
    {
     "cell_type": "markdown",
     "metadata": {},
     "source": [
      "# odML2 prototype: advanced tutorial"
     ]
    },
    {
     "cell_type": "markdown",
     "metadata": {},
     "source": [
      "### Create a document with global information"
     ]
    },
    {
     "cell_type": "code",
     "collapsed": false,
     "input": [
      "import datetime as dt\n",
      "from odml2 import Document, SB, Value\n",
      "\n",
      "glob = Document()"
     ],
     "language": "python",
     "metadata": {},
     "outputs": [],
     "prompt_number": 1
    },
    {
     "cell_type": "code",
     "collapsed": false,
     "input": [
      "glob.root = SB(\n",
      "    \"ResearchLab\", \n",
      "    name=\"Dr. Doe Lab\",\n",
      "    researchers=[\n",
      "        SB(\"Person\", label=\"Doe, Jhon\", first_name=\"Jhon\", last_name=\"Doe\"),\n",
      "        SB(\"Person\", label=\"Foo, Bar\", first_name=\"Bar\", last_name=\"Foo\")\n",
      "    ],\n",
      "    animals=[\n",
      "        SB(\"Animal\", label=\"subj 11\", subject_id=11, date_of_birth=dt.date(2015, 11, 24), species=\"Mus musculus\"),\n",
      "        SB(\"Animal\", label=\"subj 12\", subject_id=12, date_of_birth=dt.date(2015, 11, 25), species=\"Mus musculus\")\n",
      "    ]\n",
      ")\n"
     ],
     "language": "python",
     "metadata": {},
     "outputs": [],
     "prompt_number": 2
    },
    {
     "cell_type": "code",
     "collapsed": false,
     "input": [
      "glob.save(\"global.yml\")\n",
      "\n",
      "with open(\"global.yml\") as f:\n",
      "    print(f.read())"
     ],
     "language": "python",
     "metadata": {},
     "outputs": [
      {
       "output_type": "stream",
       "stream": "stdout",
       "text": [
        "date: null\n",
        "document_version: 1\n",
        "format_version: 2\n",
        "author: null\n",
        "namespaces: null\n",
        "definitions: null\n",
        "metadata:\n",
        "  type: ResearchLab\n",
        "  uuid: 49301a53-13de-44bd-bbf8-0a8756acbd67\n",
        "  name: Dr. Doe Lab\n",
        "  animals:\n",
        "  - type: Animal\n",
        "    uuid: 510520c9-a2af-479c-81dd-1448500d3222\n",
        "    label: subj 11\n",
        "    date_of_birth: 2015-11-24\n",
        "    species: Mus musculus\n",
        "    subject_id: 11\n",
        "  - type: Animal\n",
        "    uuid: a5b1167c-bce2-4ef7-97be-522060f75557\n",
        "    label: subj 12\n",
        "    date_of_birth: 2015-11-25\n",
        "    species: Mus musculus\n",
        "    subject_id: 12\n",
        "  researchers:\n",
        "  - type: Person\n",
        "    uuid: 81dbf66f-80b5-444b-a57e-64868765a57d\n",
        "    label: Doe, Jhon\n",
        "    first_name: Jhon\n",
        "    last_name: Doe\n",
        "  - type: Person\n",
        "    uuid: ddd2717c-de93-482b-90e0-b281b46ac1e0\n",
        "    label: Foo, Bar\n",
        "    first_name: Bar\n",
        "    last_name: Foo\n",
        "\n"
       ]
      }
     ],
     "prompt_number": 3
    },
    {
     "cell_type": "markdown",
     "metadata": {},
     "source": [
      "### Select data from documents"
     ]
    },
    {
     "cell_type": "code",
     "collapsed": false,
     "input": [
      "# select a person with last name 'Doe' from all sections\n",
      "experimenter = (s for s in glob.iter_sections() if s.type == \"Person\" and s[\"last_name\"] == \"Doe\").next()\n",
      "\n",
      "# select the animal with id 11 from all animals\n",
      "animal = (a for a in glob.root[\"animals\"] if a[\"subject_id\"] == 11).next()"
     ],
     "language": "python",
     "metadata": {},
     "outputs": [],
     "prompt_number": 4
    },
    {
     "cell_type": "markdown",
     "metadata": {},
     "source": [
      "### Crate a document with session information"
     ]
    },
    {
     "cell_type": "code",
     "collapsed": false,
     "input": [
      "session = Document()\n",
      "session.root = SB(\"RecordingSession\", label=\"session 42\", session_nr=42, recording_date=dt.date.today())\n",
      "\n",
      "session.save(\"session.yml\")"
     ],
     "language": "python",
     "metadata": {},
     "outputs": [],
     "prompt_number": 5
    },
    {
     "cell_type": "markdown",
     "metadata": {},
     "source": [
      "### Copy data from other documents"
     ]
    },
    {
     "cell_type": "code",
     "collapsed": false,
     "input": [
      "session = Document()\n",
      "session.load(\"session.yml\")\n",
      "\n",
      "# copy global data to session document\n",
      "session.root[\"experimenter\"] = experimenter\n",
      "session.root[\"subject\"] = animal\n",
      "\n",
      "session.root[\"subject\"][\"health\"] = \"good\"\n",
      "if \"health\" not in animal:\n",
      "    print(\"It's a copy\")"
     ],
     "language": "python",
     "metadata": {},
     "outputs": [
      {
       "output_type": "stream",
       "stream": "stdout",
       "text": [
        "It's a copy\n"
       ]
      }
     ],
     "prompt_number": 6
    },
    {
     "cell_type": "markdown",
     "metadata": {},
     "source": [
      "### Link data from other documents"
     ]
    },
    {
     "cell_type": "code",
     "collapsed": false,
     "input": [
      "session = Document()\n",
      "session.load(\"session.yml\")\n",
      "\n",
      "session.namespaces.set(\"glob\", \"global.yml\")\n",
      "\n",
      "# copy global data to session document\n",
      "session.root[\"experimenter\"] = experimenter\n",
      "session.root[\"subject\"] = animal\n",
      "\n",
      "try:\n",
      "    session.root[\"subject\"][\"health\"] = \"good\"\n",
      "except:\n",
      "    print(\"It's a link, can't change a section from another document\")"
     ],
     "language": "python",
     "metadata": {},
     "outputs": [
      {
       "output_type": "stream",
       "stream": "stdout",
       "text": [
        "It's a link, can't change a section from another document\n"
       ]
      }
     ],
     "prompt_number": 7
    }
   ],
   "metadata": {}
  }
 ]
}