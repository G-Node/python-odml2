{
 "metadata": {
  "name": ""
 },
 "nbformat": 3,
 "nbformat_minor": 0,
 "worksheets": [
  {
   "cells": [
    {
     "cell_type": "markdown",
     "metadata": {},
     "source": [
      "# odML2 prototype: advanced tutorial"
     ]
    },
    {
     "cell_type": "markdown",
     "metadata": {},
     "source": [
      "### Create a document with global information"
     ]
    },
    {
     "cell_type": "code",
     "collapsed": false,
     "input": [
      "import datetime as dt\n",
      "from odml2 import Document, SB, Value\n",
      "\n",
      "glob = Document()"
     ],
     "language": "python",
     "metadata": {},
     "outputs": [],
     "prompt_number": 1
    },
    {
     "cell_type": "code",
     "collapsed": false,
     "input": [
      "glob.root = SB(\n",
      "    \"ResearchLab\",\n",
      "    name=\"Dr. Doe Lab\",\n",
      "    researchers=[\n",
      "        SB(\"Person\",\n",
      "            label=\"Doe, John\",\n",
      "            first_name=\"John\",\n",
      "            last_name=\"Doe\"\n",
      "        ),\n",
      "        SB(\"Person\",\n",
      "            label=\"Foo, Bar\",\n",
      "            first_name=\"Bar\",\n",
      "            last_name=\"Foo\"\n",
      "        )\n",
      "    ],\n",
      "    animals=[\n",
      "        SB(\"Animal\",\n",
      "            label=\"subj 11\",\n",
      "            subject_id=11,\n",
      "            date_of_birth=dt.date(2015, 11, 24),\n",
      "            species=\"Mus musculus\"\n",
      "        ),\n",
      "        SB(\"Animal\",\n",
      "            label=\"subj 12\",\n",
      "            subject_id=12,\n",
      "            date_of_birth=dt.date(2015, 11, 25),\n",
      "            species=\"Mus musculus\"\n",
      "        )\n",
      "    ]\n",
      ")\n"
     ],
     "language": "python",
     "metadata": {},
     "outputs": [],
     "prompt_number": 2
    },
    {
     "cell_type": "code",
     "collapsed": false,
     "input": [
      "glob.save(\"global.yml\")\n",
      "\n",
      "with open(\"global.yml\") as f:\n",
      "    print(f.read())"
     ],
     "language": "python",
     "metadata": {},
     "outputs": [
      {
       "output_type": "stream",
       "stream": "stdout",
       "text": [
        "date: null\n",
        "document_version: 1\n",
        "format_version: 2\n",
        "author: null\n",
        "namespaces: null\n",
        "definitions: null\n",
        "metadata:\n",
        "  type: ResearchLab\n",
        "  uuid: 5a8d9634-1527-4d07-b5ff-86b0f80171ce\n",
        "  name: Dr. Doe Lab\n",
        "  animals:\n",
        "  - type: Animal\n",
        "    uuid: 272bf25b-fb75-4f4a-9db8-432fc895b76e\n",
        "    label: subj 11\n",
        "    date_of_birth: 2015-11-24\n",
        "    species: Mus musculus\n",
        "    subject_id: 11\n",
        "  - type: Animal\n",
        "    uuid: 996969c9-2568-4a43-8336-52f887bf4b7d\n",
        "    label: subj 12\n",
        "    date_of_birth: 2015-11-25\n",
        "    species: Mus musculus\n",
        "    subject_id: 12\n",
        "  researchers:\n",
        "  - type: Person\n",
        "    uuid: 505aef61-d0bf-4414-93c1-e3dde9b15c5b\n",
        "    label: Doe, John\n",
        "    first_name: John\n",
        "    last_name: Doe\n",
        "  - type: Person\n",
        "    uuid: 1a71fc0e-a120-4653-a21b-5025dab220c4\n",
        "    label: Foo, Bar\n",
        "    first_name: Bar\n",
        "    last_name: Foo\n",
        "\n"
       ]
      }
     ],
     "prompt_number": 3
    },
    {
     "cell_type": "markdown",
     "metadata": {},
     "source": [
      "### Select data from documents"
     ]
    },
    {
     "cell_type": "code",
     "collapsed": false,
     "input": [
      "# select a person with last name 'Doe' from all sections\n",
      "experimenter = (s for s in glob.iter_sections() \n",
      "                if s.type == \"Person\" and s[\"last_name\"] == \"Doe\").next()\n",
      "\n",
      "# select the animal with id 11 from all animals\n",
      "animal = (a for a in glob.root[\"animals\"] if a[\"subject_id\"] == 11).next()"
     ],
     "language": "python",
     "metadata": {},
     "outputs": [],
     "prompt_number": 4
    },
    {
     "cell_type": "markdown",
     "metadata": {},
     "source": [
      "### Crate a document with session information"
     ]
    },
    {
     "cell_type": "code",
     "collapsed": false,
     "input": [
      "session = Document()\n",
      "session.root = SB(\"RecordingSession\", label=\"session 42\", session_nr=42, recording_date=dt.date.today())\n",
      "\n",
      "session.save(\"session.yml\")"
     ],
     "language": "python",
     "metadata": {},
     "outputs": [],
     "prompt_number": 5
    },
    {
     "cell_type": "markdown",
     "metadata": {},
     "source": [
      "### Copy data from other documents"
     ]
    },
    {
     "cell_type": "code",
     "collapsed": false,
     "input": [
      "session = Document()\n",
      "session.load(\"session.yml\")\n",
      "\n",
      "# copy global data to session document\n",
      "session.root[\"experimenter\"] = experimenter\n",
      "session.root[\"subject\"] = animal\n",
      "\n",
      "session.root[\"subject\"][\"health\"] = \"good\"\n",
      "if \"health\" not in animal:\n",
      "    print(\"It's a copy\")"
     ],
     "language": "python",
     "metadata": {},
     "outputs": [
      {
       "output_type": "stream",
       "stream": "stdout",
       "text": [
        "It's a copy\n"
       ]
      }
     ],
     "prompt_number": 6
    },
    {
     "cell_type": "markdown",
     "metadata": {},
     "source": [
      "### Link data from other documents"
     ]
    },
    {
     "cell_type": "code",
     "collapsed": false,
     "input": [
      "session = Document()\n",
      "session.load(\"session.yml\")\n",
      "\n",
      "session.namespaces.set(\"glob\", \"global.yml\")\n",
      "\n",
      "# copy global data to session document\n",
      "session.root[\"experimenter\"] = experimenter\n",
      "session.root[\"subject\"] = animal\n",
      "\n",
      "try:\n",
      "    session.root[\"subject\"][\"health\"] = \"good\"\n",
      "except:\n",
      "    print(\"It's a link, can't change a section from another document\")"
     ],
     "language": "python",
     "metadata": {},
     "outputs": [
      {
       "output_type": "stream",
       "stream": "stdout",
       "text": [
        "It's a link, can't change a section from another document\n"
       ]
      }
     ],
     "prompt_number": 7
    }
   ],
   "metadata": {}
  }
 ]
}